{
 "cells": [
  {
   "cell_type": "markdown",
   "metadata": {},
   "source": [
    "# Conditional Statement"
   ]
  },
  {
   "cell_type": "markdown",
   "metadata": {},
   "source": [
    "## If Else Statement"
   ]
  },
  {
   "cell_type": "code",
   "execution_count": 1,
   "metadata": {},
   "outputs": [
    {
     "name": "stdout",
     "output_type": "stream",
     "text": [
      "Sorry, you can not buy burger\n"
     ]
    }
   ],
   "source": [
    "# Variable\n",
    "money = 5\n",
    "hamburger = 10\n",
    "\n",
    "# If Else Statement\n",
    "if money >= hamburger:\n",
    "    print('You can buy burger')\n",
    "else:\n",
    "    print('Sorry, you can not buy burger')"
   ]
  },
  {
   "cell_type": "code",
   "execution_count": 22,
   "metadata": {},
   "outputs": [
    {
     "name": "stdout",
     "output_type": "stream",
     "text": [
      "Please input color of traffic light: Black\n",
      "Sorry that colour is not one from Traffic Light.\n"
     ]
    }
   ],
   "source": [
    "# If Elif Else\n",
    "# Traffic Light\n",
    "colour = input('Please input color of traffic light: ')\n",
    "colour = colour.lower()\n",
    "\n",
    "if colour == 'red': # Condition 1 if red traffic light\n",
    "    print('Please Stop!')\n",
    "elif colour == 'yellow': # Condition 2 if yellow traffic light\n",
    "    print('Please Be Careful! Slow Down')\n",
    "elif colour == 'green': # Condition 3 if green traffic light\n",
    "    print('Please Go Ahead!')\n",
    "else:\n",
    "    print('Sorry that colour is not one from Traffic Light.') # Condition 4 if wrong traffic light"
   ]
  },
  {
   "cell_type": "code",
   "execution_count": 8,
   "metadata": {},
   "outputs": [
    {
     "name": "stdout",
     "output_type": "stream",
     "text": [
      "Please input month: January\n",
      "Are you sure January? Please answer with yes or no.yes\n",
      "You get 75% dicount\n"
     ]
    }
   ],
   "source": [
    "# Nested If\n",
    "# Discount every January (75%) and February (50%)\n",
    "# Variable\n",
    "month = input('Please input month: ')\n",
    "month = month.lower()\n",
    "\n",
    "if month == 'january':\n",
    "    confirm = input('Are you sure January? Please answer with yes or no.')\n",
    "    confirm = confirm.lower()\n",
    "    if confirm == 'yes':\n",
    "        print('You get 75% dicount')\n",
    "    else:\n",
    "        print('Please input correct month')\n",
    "elif month == 'december':\n",
    "    print('You get 50% dicount')\n",
    "else:\n",
    "    print('No Discount Available')"
   ]
  },
  {
   "cell_type": "code",
   "execution_count": 13,
   "metadata": {},
   "outputs": [
    {
     "name": "stdout",
     "output_type": "stream",
     "text": [
      "Please enter your Vehichle Registration Plate: B 3146 KYY\n",
      "Plese enter date:3\n",
      "You got a ticket because break the rules, today is 3, and your Vehichle Registration Plate is Event\n"
     ]
    }
   ],
   "source": [
    "# Odd and Event Vehicle Registration Plate\n",
    "reg_plate = input('Please enter your Vehichle Registration Plate: ')\n",
    "reg_plate = int(reg_plate.split(' ')[1])\n",
    "date = int(input('Plese enter date:'))\n",
    "\n",
    "if date % 2 == 0: # Event date\n",
    "    if reg_plate % 2 == 0: # Reg_plate must event\n",
    "        print(f'You pass, today is {date}, and your Vehichle Registration Plate is Event')\n",
    "    else:\n",
    "        print(f'You got a ticket because break the rules, today is {date}, and your Vehichle Registration Plate is Odd')\n",
    "else:\n",
    "    if reg_plate % 2 != 0: # Reg_plate must Odd (because else statement with Odd date)\n",
    "        print(f'You pass, today is {date}, and your Vehichle Registration Plate is Odd')\n",
    "    else:\n",
    "        print(f'You got a ticket because break the rules, today is {date}, and your Vehichle Registration Plate is Event')"
   ]
  },
  {
   "cell_type": "code",
   "execution_count": 18,
   "metadata": {},
   "outputs": [
    {
     "name": "stdout",
     "output_type": "stream",
     "text": [
      "Please input the date transaction (YYYY-MM-DD): 2020-12-12\n",
      "Please input total transaction: 105000\n",
      "Congratulation, you get cashback Rp. 25000\n"
     ]
    }
   ],
   "source": [
    "# Cashback at several condition (Deadline date before 2021) get 25% with max cashback 25000\n",
    "import pandas as pd # Use Pandas to solve this problem\n",
    "transaction_date = pd.to_datetime(input('Please input the date transaction (YYYY-MM-DD): ')) # use pd.do_datetime to change format date\n",
    "deadline_date = pd.to_datetime('2021-01-01') # Change variable format to date\n",
    "total_transaction = int(input('Please input total transaction: '))\n",
    "\n",
    "if transaction_date < deadline_date: # transaction date must before deadline date\n",
    "    if total_transaction <= 100000: # Max total transaction to get  max cashback 250000\n",
    "        print(f'Congratulation, you get cashback Rp. {total_transaction*0.25}') #Cashback = total transaction *25%\n",
    "    else:\n",
    "        print(f'Congratulation, you get cashback Rp. {25000}') # Max Cashback 25000\n",
    "else:\n",
    "    print('Sorry you did not get cashback because max transaction date berfore 1 January 2021')"
   ]
  },
  {
   "cell_type": "code",
   "execution_count": null,
   "metadata": {},
   "outputs": [],
   "source": []
  }
 ],
 "metadata": {
  "kernelspec": {
   "display_name": "Python 3",
   "language": "python",
   "name": "python3"
  },
  "language_info": {
   "codemirror_mode": {
    "name": "ipython",
    "version": 3
   },
   "file_extension": ".py",
   "mimetype": "text/x-python",
   "name": "python",
   "nbconvert_exporter": "python",
   "pygments_lexer": "ipython3",
   "version": "3.8.5"
  }
 },
 "nbformat": 4,
 "nbformat_minor": 4
}
